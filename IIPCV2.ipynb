{
 "cells": [
  {
   "cell_type": "markdown",
   "source": [
    "# Project 2 - PLANT SPECIES RECOGNITION"
   ],
   "metadata": {
    "collapsed": false,
    "pycharm": {
     "name": "#%% md\n"
    }
   }
  },
  {
   "cell_type": "code",
   "execution_count": 24,
   "outputs": [],
   "source": [
    "import cv2 as cv\n",
    "import numpy as np\n",
    "import matplotlib.pyplot as plt\n",
    "from mahotas.features import haralick\n",
    "import glob\n",
    "from sklearn.svm import LinearSVC\n",
    "from sklearn.preprocessing import StandardScaler\n",
    "from skimage import feature\n",
    "%matplotlib inline"
   ],
   "metadata": {
    "collapsed": false,
    "pycharm": {
     "name": "#%%\n",
     "is_executing": false
    }
   }
  },
  {
   "cell_type": "markdown",
   "source": [
    "Let's start with defining feature vector extracting functions. Following function is extracting contur based features.\n",
    "[All stats used are presented here.](https://docs.opencv.org/master/d1/d32/tutorial_py_contour_properties.html)"
   ],
   "metadata": {
    "collapsed": false,
    "pycharm": {
     "name": "#%% md\n"
    }
   }
  },
  {
   "cell_type": "code",
   "execution_count": 25,
   "outputs": [],
   "source": [
    "def extract_contour_features(image):\n",
    "    \"\"\"\n",
    "    :param image: grayscale\n",
    "    :return: feature vector\n",
    "    \"\"\"\n",
    "    # extracting leaf contour\n",
    "    ret, th = cv.threshold(image, 0, 255, cv.THRESH_BINARY + cv.THRESH_OTSU)\n",
    "    contours, hierarchy = cv.findContours(cv.bitwise_not(th), cv.RETR_TREE, cv.CHAIN_APPROX_SIMPLE)\n",
    "    cnt = max(contours, key=cv.contourArea)\n",
    "    x, y, w, h = cv.boundingRect(cnt)\n",
    "    aspect_ratio = float(w) / h\n",
    "    area = cv.contourArea(cnt)\n",
    "    rect_area = w * h\n",
    "    # ratio of contour area to bounding rectangle area.\n",
    "    extent = float(area) / rect_area\n",
    "    hull = cv.convexHull(cnt)\n",
    "    hull_area = cv.contourArea(hull)\n",
    "    # ratio of contour area to its convex hull area.\n",
    "    solidity = float(area) / hull_area\n",
    "    # diameter of the circle whose area is same as the contour area.\n",
    "    equi_diameter = np.sqrt(4 * area / np.pi)\n",
    "    (x, y), (MA, ma), angle = cv.fitEllipse(cnt)\n",
    "    mask = np.zeros(image.shape, np.uint8)\n",
    "    cv.drawContours(mask, [cnt], 0, 255, -1)\n",
    "    # Contour Perimeter\n",
    "    perimeter = cv.arcLength(cnt, True)\n",
    "    # average intensity of the object in grayscale\n",
    "    mean_val = cv.mean(image, mask=mask)\n",
    "    return np.array([aspect_ratio, extent, solidity, equi_diameter, perimeter, hull_area, mean_val[0]])"
   ],
   "metadata": {
    "collapsed": false,
    "pycharm": {
     "name": "#%%\n",
     "is_executing": false
    }
   }
  },
  {
   "cell_type": "markdown",
   "source": [
    "Next we define feature vector extracting function based on Haralick feature vector."
   ],
   "metadata": {
    "collapsed": false,
    "pycharm": {
     "name": "#%% md\n"
    }
   }
  },
  {
   "cell_type": "code",
   "execution_count": 26,
   "outputs": [],
   "source": [
    "def extract_haralick_features(image, mode='default'):\n",
    "    \"\"\"\n",
    "    Function extracting texture features\n",
    "    https://mahotas.readthedocs.io/en/latest/api.html?highlight=haralick#mahotas.features.haralick\n",
    "    :param image: grayscale\n",
    "    :param mode: thresh - threshold is on, default - threshold is off\n",
    "    :return: feature vector\n",
    "    \"\"\"\n",
    "    if mode == 'thresh':\n",
    "        # calculate haralick texture features for 4 types of adjacency\n",
    "        ret, th = cv.threshold(image, 0, 255, cv.THRESH_TOZERO_INV + cv.THRESH_OTSU)\n",
    "        textures = haralick(th, ignore_zeros=True)\n",
    "    else:\n",
    "        textures = haralick(image)\n",
    "    # take the mean of it and return it\n",
    "    ht_mean = textures.mean(axis=0)\n",
    "    return ht_mean"
   ],
   "metadata": {
    "collapsed": false,
    "pycharm": {
     "name": "#%%\n",
     "is_executing": false
    }
   }
  },
  {
   "cell_type": "markdown",
   "source": [
    "Next we define Local Binary Pattern feature vector extraction."
   ],
   "metadata": {
    "collapsed": false,
    "pycharm": {
     "name": "#%% md\n"
    }
   }
  },
  {
   "cell_type": "code",
   "execution_count": 27,
   "outputs": [],
   "source": [
    "def extract_lbp_feature(image, num_points=24, radius=8, eps=1e-7):\n",
    "    \"\"\"\n",
    "    :param image: grayscale\n",
    "    :param num_points: Number of points in a circularly symmetric neighborhood to consider.\n",
    "    :param radius: The radius of the circle, which allows us to account for different scales.\n",
    "    :param eps: Number used for normaliztaion\n",
    "    :return:\n",
    "    \"\"\"\n",
    "    lbp = feature.local_binary_pattern(image, num_points,\n",
    "                                       radius, method=\"uniform\")\n",
    "    (hist, _) = np.histogram(lbp.ravel(),\n",
    "                             bins=np.arange(0, num_points + 3),\n",
    "                             range=(0, num_points + 2))\n",
    "\n",
    "    # normalize the histogram\n",
    "    hist = hist.astype(\"float\")\n",
    "    hist /= (hist.sum() + eps)\n",
    "    # return the histogram of Local Binary Patterns\n",
    "    return hist"
   ],
   "metadata": {
    "collapsed": false,
    "pycharm": {
     "name": "#%%\n",
     "is_executing": false
    }
   }
  },
  {
   "cell_type": "markdown",
   "source": [
    "Next we define KAZE feature vector extraction."
   ],
   "metadata": {
    "collapsed": false,
    "pycharm": {
     "name": "#%% md\n"
    }
   }
  },
  {
   "cell_type": "code",
   "execution_count": 28,
   "outputs": [],
   "source": [
    "def kaze_features(image, vector_size=32):\n",
    "    alg = cv.KAZE_create()\n",
    "    # Finding image keypoints\n",
    "    kps = alg.detect(image)\n",
    "    # Getting first 32 of them.\n",
    "    # Number of keypoints is varies depend on image size and color pallet\n",
    "    # Sorting them based on keypoint response value(bigger is better)\n",
    "    kps = sorted(kps, key=lambda x: -x.response)[:vector_size]\n",
    "    # computing descriptors vector\n",
    "    kps, dsc = alg.compute(image, kps)\n",
    "    dsc = dsc.mean(axis=0)\n",
    "    return dsc"
   ],
   "metadata": {
    "collapsed": false,
    "pycharm": {
     "name": "#%%\n",
     "is_executing": false
    }
   }
  },
  {
   "cell_type": "markdown",
   "source": [
    "Finnaly we define our last feature vector - histogram."
   ],
   "metadata": {
    "collapsed": false,
    "pycharm": {
     "name": "#%% md\n"
    }
   }
  },
  {
   "cell_type": "code",
   "execution_count": 29,
   "outputs": [],
   "source": [
    "def hist_features(image, eps=1e-7):\n",
    "    hist = cv.calcHist([image], [0], None, [256], [0, 256])\n",
    "    hist = hist.astype(\"float\")\n",
    "    hist /= (hist.sum() + eps)\n",
    "\n",
    "    # return the histogram of Local Binary Patterns\n",
    "    return hist.flatten()"
   ],
   "metadata": {
    "collapsed": false,
    "pycharm": {
     "name": "#%%\n",
     "is_executing": false
    }
   }
  },
  {
   "cell_type": "markdown",
   "source": [
    "Lets now load images and process them to grayscale for feature extraction"
   ],
   "metadata": {
    "collapsed": false,
    "pycharm": {
     "name": "#%% md\n"
    }
   }
  },
  {
   "cell_type": "code",
   "execution_count": 30,
   "outputs": [
    {
     "data": {
      "text/plain": "<matplotlib.image.AxesImage at 0x7f00608cc290>"
     },
     "metadata": {},
     "output_type": "execute_result",
     "execution_count": 30
    },
    {
     "data": {
      "text/plain": "<Figure size 432x288 with 1 Axes>",
      "image/png": "[encoded data removed]"
     },
     "metadata": {
      "needs_background": "light"
     },
     "output_type": "display_data"
    }
   ],
   "source": [
    "plants = ['circinatum', 'garryana', 'glabrum', 'kelloggii', 'macrophyllum', 'negundo']\n",
    "paths = []\n",
    "images = []\n",
    "train_labels = []\n",
    "for p in plants:\n",
    "    paths.append(glob.glob('isolated/' + p + '/*'))\n",
    "\n",
    "i = 0\n",
    "for path in paths:\n",
    "    for file in path:\n",
    "        image = cv.imread(file)\n",
    "        # convert the image to grayscale\n",
    "        gray = cv.cvtColor(image, cv.COLOR_BGR2GRAY)\n",
    "        images.append(gray)\n",
    "        train_labels.append(i)\n",
    "    i += 1\n",
    "plt.imshow(images[1],cmap='gray')"
   ],
   "metadata": {
    "collapsed": false,
    "pycharm": {
     "name": "#%%\n",
     "is_executing": false
    }
   }
  },
  {
   "cell_type": "markdown",
   "source": [
    "Now let's define function for looping through images and applying feature extraction."
   ],
   "metadata": {
    "collapsed": false,
    "pycharm": {
     "name": "#%% md\n",
     "is_executing": false
    }
   }
  },
  {
   "cell_type": "code",
   "execution_count": 31,
   "outputs": [],
   "source": [
    "\n",
    "def process_data(gray_images, alg):\n",
    "    fv = []\n",
    "    for img in gray_images:\n",
    "        fv.append(alg(img))\n",
    "    return fv"
   ],
   "metadata": {
    "collapsed": false,
    "pycharm": {
     "name": "#%%\n",
     "is_executing": false
    }
   }
  },
  {
   "cell_type": "markdown",
   "source": [
    "Next lets select which feature vectors we will test:"
   ],
   "metadata": {
    "collapsed": false,
    "pycharm": {
     "name": "#%% md\n"
    }
   }
  },
  {
   "cell_type": "code",
   "execution_count": 32,
   "outputs": [
    {
     "data": {
      "text/plain": "(442, 289)"
     },
     "metadata": {},
     "output_type": "execute_result",
     "execution_count": 32
    }
   ],
   "source": [
    "features = []\n",
    "# if you want to test different feature vector uncomment or comment line below \n",
    "features.append(process_data(images, extract_contour_features))\n",
    "features.append(process_data(images, hist_features))\n",
    "features.append(process_data(images, extract_lbp_feature))\n",
    "# features.append(process_data(images, kaze_features))\n",
    "# features.append(process_data(images, extract_haralick_features))\n",
    "\n",
    "# create one vector\n",
    "train_features = np.concatenate(features, axis=1)\n",
    "train_features.shape"
   ],
   "metadata": {
    "collapsed": false,
    "pycharm": {
     "name": "#%%\n",
     "is_executing": false
    }
   }
  },
  {
   "cell_type": "markdown",
   "source": [
    "Next lets create classifier, train and evaluate it."
   ],
   "metadata": {
    "collapsed": false,
    "pycharm": {
     "name": "#%% md\n"
    }
   }
  },
  {
   "cell_type": "code",
   "execution_count": 34,
   "outputs": [
    {
     "name": "stdout",
     "text": [
      "[STATUS] Creating the classifier..\n",
      "[STATUS] Fitting data/label to model..\n",
      "10 fold cross validation scores:\n",
      "[0.95555556 0.97777778 1.         0.97727273 0.97727273 0.97727273\n",
      " 0.97727273 0.97727273 0.97727273 1.        ]\n",
      "Mean: 0.9796969696969697\n",
      "Median: 0.9772727272727273\n",
      "Std: 0.012025718112987988\n",
      "[TEST] 80/20 Accuracy of the model is equal: 0.9887640449438202\n",
      "              precision    recall  f1-score   support\n",
      "\n",
      "  circinatum       1.00      1.00      1.00        14\n",
      "    garryana       1.00      1.00      1.00        17\n",
      "     glabrum       1.00      1.00      1.00        17\n",
      "   kelloggii       1.00      1.00      1.00        17\n",
      "macrophyllum       0.94      1.00      0.97        17\n",
      "     negundo       1.00      0.86      0.92         7\n",
      "\n",
      "    accuracy                           0.99        89\n",
      "   macro avg       0.99      0.98      0.98        89\n",
      "weighted avg       0.99      0.99      0.99        89\n",
      "\n"
     ],
     "output_type": "stream"
    }
   ],
   "source": [
    "# create the classifier\n",
    "print(\"[STATUS] Creating the classifier..\")\n",
    "clf_svm = LinearSVC(max_iter=9000)\n",
    "\n",
    "# fit the training data and labels\n",
    "print(\"[STATUS] Fitting data/label to model..\")\n",
    "scaler = StandardScaler()\n",
    "train_features = scaler.fit_transform(train_features)\n",
    "from sklearn.model_selection import train_test_split, cross_val_score\n",
    "\n",
    "score = cross_val_score(clf_svm, train_features, train_labels, cv=10, n_jobs=-1)\n",
    "print('10 fold cross validation scores:')\n",
    "print(score)\n",
    "print('Mean: {}'.format(np.mean(score)))\n",
    "print('Median: {}'.format(np.median(score)))\n",
    "print('Std: {}'.format(np.std(score)))\n",
    "\n",
    "xTrain, xTest, yTrain, yTest = train_test_split(train_features, train_labels, test_size=0.2, random_state=0)\n",
    "# train linear svc\n",
    "clf_svm.fit(xTrain, yTrain)\n",
    "# score = clf_svm.score(xTrain, yTrain)\n",
    "# print('[TRAIN] Accuracy of the model is equal: {}'.format(score))\n",
    "score = clf_svm.score(xTest, yTest)\n",
    "print('[TEST] 80/20 Accuracy of the model is equal: {}'.format(score))\n",
    "from sklearn.metrics import classification_report\n",
    "test_pred = clf_svm.predict(xTest)\n",
    "print(classification_report(test_pred, yTest, target_names=plants))"
   ],
   "metadata": {
    "collapsed": false,
    "pycharm": {
     "name": "#%%\n",
     "is_executing": false
    }
   }
  }
 ],
 "metadata": {
  "kernelspec": {
   "display_name": "Python 3",
   "language": "python",
   "name": "python3"
  },
  "language_info": {
   "codemirror_mode": {
    "name": "ipython",
    "version": 2
   },
   "file_extension": ".py",
   "mimetype": "text/x-python",
   "name": "python",
   "nbconvert_exporter": "python",
   "pygments_lexer": "ipython2",
   "version": "2.7.6"
  },
  "pycharm": {
   "stem_cell": {
    "cell_type": "raw",
    "source": [],
    "metadata": {
     "collapsed": false
    }
   }
  }
 },
 "nbformat": 4,
 "nbformat_minor": 0
}